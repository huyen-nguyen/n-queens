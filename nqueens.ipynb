{
 "cells": [
  {
   "cell_type": "code",
   "execution_count": 32,
   "metadata": {},
   "outputs": [
    {
     "name": "stdout",
     "output_type": "stream",
     "text": [
      "c SAT Expression for N=5\n",
      "c Board has 25 positions\n",
      "170\n"
     ]
    }
   ],
   "source": [
    "#!/usr/bin/env python\n",
    "# python script to generate SAT encoding of N-queens problem\n",
    "#\n",
    "# Jeremy Johnson and Mark Boady\n",
    "\n",
    "#Helper Functions\n",
    "#cnf formula for exactly one of the variables in list A to be true\n",
    "def exactly_one(A):\n",
    "    temp=\"\"\n",
    "    temp=temp+atleast_one(A)\n",
    "    temp=temp+atmost_one(A)\n",
    "    return temp\n",
    "\n",
    "#cnf formula for atleast one of the variables in list A to be true\n",
    "def atleast_one(A):\n",
    "    temp=\"\"\n",
    "    for x in A:\n",
    "        temp = temp +\" \" +str(x)\n",
    "    temp=temp+\" 0\\n\"\n",
    "    return temp\n",
    "\n",
    "#cnf formula for atmost one of the variables in list A to be true\n",
    "def atmost_one(A):\n",
    "    temp=\"\"\n",
    "    for x in A:\n",
    "        for y in A[A.index(x)+1:]:\n",
    "            temp = temp +\" -\"+str(x)+\" -\"+str(y)+\" 0\\n\"\n",
    "    return temp\n",
    "#function to map position (r,c) 0 <= r,c < N, in an NxN grid to the integer\n",
    "# position when the grid is stored linearly by rows.\n",
    "def varmap(r,c,N):\n",
    "    return r*N+c+1\n",
    "\n",
    "# #Read Input\n",
    "# if len(sys.argv)>1:\n",
    "#     N=int(sys.argv[1])\n",
    "# else:\n",
    "#     N=3\n",
    "# #Check for Sane Input\n",
    "# if N<1:\n",
    "#     print(\"Error N<1\")\n",
    "#     sys.exit(0)\n",
    "\n",
    "N = 5\n",
    "    \n",
    "#Start Solver\n",
    "print(\"c SAT Expression for N=\"+str(N))\n",
    "spots = N*N\n",
    "print(\"c Board has \"+str(spots)+\" positions\")\n",
    "\n",
    "#Exactly 1 queen per row\n",
    "temp=\"\"\n",
    "for row in range(0,N):\n",
    "    A=[]\n",
    "    for column in range(0,N):\n",
    "        position = varmap(row,column,N)\n",
    "        A.append(position)\n",
    "    temp = temp+exactly_one(A)\n",
    "\n",
    "#Exactly 1 queen per column\n",
    "for column in range(0,N):\n",
    "    A=[]\n",
    "    for row in range(0,N):\n",
    "        position = varmap(row,column,N)\n",
    "        A.append(position)\n",
    "    temp = temp+exactly_one(A)\n",
    "    \n",
    "    \n",
    "#Atmost 1 queen per negative diagonal from left\n",
    "for row in range(N-1,-1,-1):\n",
    "    A=[]\n",
    "    for x in range(0,N-row):\n",
    "        A.append(varmap(row+x,x,N))\n",
    "    temp=temp+atmost_one(A)\n",
    "\n",
    "#Atmost 1 queen per negative diagonal from top\n",
    "for column in range(1,N):\n",
    "    A=[]\n",
    "    for x in range(0,N-column):\n",
    "        A.append(varmap(x,column+x,N))\n",
    "    temp=temp+atmost_one(A)\n",
    "\n",
    "#Atmost 1 queen per positive diagonal from right\n",
    "for row in range(N-1,-1,-1):\n",
    "    A=[]\n",
    "    for x in range(0,N-row):\n",
    "        A.append(varmap(row+x,N-1-x,N))\n",
    "    temp=temp+atmost_one(A)\n",
    "\n",
    "#Atmost 1 queen per positive diagonal from top\n",
    "for column in range(N-2,-1,-1):\n",
    "    A=[]\n",
    "    for x in range(0,column+1):\n",
    "        A.append(varmap(x,column-x,N))\n",
    "    temp=temp+atmost_one(A)\n",
    "print(temp.count('\\n'))\n",
    "# print('p cnf ' + str(N*N) + ' ' + str(temp.count('\\n')) + '\\n')\n",
    "# print(temp)"
   ]
  },
  {
   "cell_type": "code",
   "execution_count": 27,
   "metadata": {},
   "outputs": [
    {
     "name": "stdout",
     "output_type": "stream",
     "text": [
      "[1, 2, 3, 4]\n"
     ]
    }
   ],
   "source": [
    "X = [0,1,2,3,4]\n",
    "print(X[1:])"
   ]
  },
  {
   "cell_type": "code",
   "execution_count": null,
   "metadata": {},
   "outputs": [],
   "source": []
  }
 ],
 "metadata": {
  "kernelspec": {
   "display_name": "Python 3",
   "language": "python",
   "name": "python3"
  },
  "language_info": {
   "codemirror_mode": {
    "name": "ipython",
    "version": 3
   },
   "file_extension": ".py",
   "mimetype": "text/x-python",
   "name": "python",
   "nbconvert_exporter": "python",
   "pygments_lexer": "ipython3",
   "version": "3.7.6"
  }
 },
 "nbformat": 4,
 "nbformat_minor": 4
}
